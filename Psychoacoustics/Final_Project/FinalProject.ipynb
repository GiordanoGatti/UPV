{
  "nbformat": 4,
  "nbformat_minor": 0,
  "metadata": {
    "colab": {
      "provenance": []
    },
    "kernelspec": {
      "name": "python3",
      "display_name": "Python 3"
    },
    "language_info": {
      "name": "python"
    }
  },
  "cells": [
    {
      "cell_type": "markdown",
      "source": [
        "#Psychoacoustics\n",
        "\n",
        "```\n",
        "Prof. PhD Joan Salvador Ardid Ramírez\n",
        "```\n",
        "###Final Project:  \n",
        "\n",
        "```\n",
        "- Background noise level threshold for inteligibility: Cocktail party effect.\n",
        "\n",
        "This code is intended to generate the .wav files of the sentence + background samples\n",
        "(after running it you can find and dowload the files in the folder icon on the lateral\n",
        " left bar), and analysing the answers acquired.\n",
        "```"
      ],
      "metadata": {
        "id": "WXrAWDHIOgN6"
      }
    },
    {
      "cell_type": "markdown",
      "source": [
        "- Generating sentences"
      ],
      "metadata": {
        "id": "D7zHPIOGOfLU"
      }
    },
    {
      "cell_type": "code",
      "execution_count": null,
      "metadata": {
        "colab": {
          "base_uri": "https://localhost:8080/"
        },
        "id": "71vT8uaj5K-G",
        "outputId": "13673f3e-db47-42d0-efa7-7ab031e4cd0b"
      },
      "outputs": [
        {
          "output_type": "stream",
          "name": "stdout",
          "text": [
            "Collecting gtts\n",
            "  Downloading gTTS-2.5.1-py3-none-any.whl (29 kB)\n",
            "Requirement already satisfied: requests<3,>=2.27 in /usr/local/lib/python3.10/dist-packages (from gtts) (2.31.0)\n",
            "Requirement already satisfied: click<8.2,>=7.1 in /usr/local/lib/python3.10/dist-packages (from gtts) (8.1.7)\n",
            "Requirement already satisfied: charset-normalizer<4,>=2 in /usr/local/lib/python3.10/dist-packages (from requests<3,>=2.27->gtts) (3.3.2)\n",
            "Requirement already satisfied: idna<4,>=2.5 in /usr/local/lib/python3.10/dist-packages (from requests<3,>=2.27->gtts) (3.7)\n",
            "Requirement already satisfied: urllib3<3,>=1.21.1 in /usr/local/lib/python3.10/dist-packages (from requests<3,>=2.27->gtts) (2.0.7)\n",
            "Requirement already satisfied: certifi>=2017.4.17 in /usr/local/lib/python3.10/dist-packages (from requests<3,>=2.27->gtts) (2024.6.2)\n",
            "Installing collected packages: gtts\n",
            "Successfully installed gtts-2.5.1\n",
            "Saved: sentence_1.wav\n",
            "Saved: sentence_2.wav\n",
            "Saved: sentence_3.wav\n",
            "Saved: sentence_4.wav\n",
            "Saved: sentence_5.wav\n",
            "Saved: sentence_6.wav\n",
            "Saved: sentence_7.wav\n",
            "Saved: sentence_8.wav\n",
            "Saved: sentence_9.wav\n",
            "Saved: sentence_10.wav\n",
            "Saved: sentence_11.wav\n",
            "Saved: sentence_12.wav\n",
            "Saved: sentence_13.wav\n",
            "Saved: sentence_14.wav\n",
            "Saved: sentence_15.wav\n",
            "Saved: sentence_16.wav\n",
            "Saved: sentence_17.wav\n",
            "Saved: sentence_18.wav\n",
            "Saved: sentence_19.wav\n",
            "Saved: sentence_20.wav\n"
          ]
        }
      ],
      "source": [
        "# @title\n",
        "!pip install gtts\n",
        "from gtts import gTTS\n",
        "import os\n",
        "\n",
        "# List of sentences to transform into speech samples\n",
        "sentences = [\n",
        "\"I like to read books, especially mystery and science fiction\",\n",
        "\"She has a red car she drives every day\",\n",
        "\"They are playing in the park with their friends\",\n",
        "\"The sky is blue today with no clouds visible\",\n",
        "\"He eats an apple every morning to stay healthy\",\n",
        "\"We live in a small town with a beautiful lake\",\n",
        "\"The cat is sleeping on the couch after playing outside\",\n",
        "\"I need to buy groceries like milk, bread, and vegetables\",\n",
        "\"Can you help me with this difficult math problem\",\n",
        "\"It is very hot outside, so drink plenty of water\",\n",
        "\"I enjoy listening to music while working for concentration\",\n",
        "\"She is a good dancer and practices her moves daily\",\n",
        "\"He works at a bank as a teller helping customers\",\n",
        "\"The garden flowers are beautiful and come in many colors\",\n",
        "\"We are going to the beach tomorrow to swim\",\n",
        "\"Do you want a cup of coffee or some tea\",\n",
        "\"My favorite color is green because it represents nature\",\n",
        "\"She likes to paint landscapes and animals in her free time\",\n",
        "\"He is reading a newspaper to stay updated on news\",\n",
        "\"The dog is very friendly and loves playing fetch outside\"\n",
        "]\n",
        "\n",
        "# Save each sentence to a separate .wav file\n",
        "for i, sentence in enumerate(sentences):\n",
        "    filename = f'sentence_{i+1}.wav'\n",
        "    tts = gTTS(sentence)\n",
        "    tts.save(filename)\n",
        "    print(f'Saved: {filename}')"
      ]
    },
    {
      "cell_type": "markdown",
      "source": [
        "- Creating the background noise and mixing main sentences"
      ],
      "metadata": {
        "id": "Dmj2Hy90QO0S"
      }
    },
    {
      "cell_type": "code",
      "source": [
        "!pip install pydub --quiet\n",
        "!apt-get install ffmpeg --quiet\n",
        "from pydub import AudioSegment\n",
        "from pydub.exceptions import CouldntDecodeError\n",
        "\n",
        "# Function to check and re-encode wav files\n",
        "def verify_reencode(filename):\n",
        "    try:\n",
        "        # Try loading the audio file\n",
        "        audio = AudioSegment.from_wav(filename)\n",
        "        return audio\n",
        "    except CouldntDecodeError:\n",
        "        # If decoding fails, re-encode the file\n",
        "        print(f\"Re-encoding {filename}...\")\n",
        "        temp_filename = f\"temp_{filename}\"\n",
        "        os.system(f\"ffmpeg -i {filename} -acodec pcm_s16le -ar 44100 {temp_filename}\")\n",
        "        audio = AudioSegment.from_wav(temp_filename)\n",
        "        os.remove(temp_filename)\n",
        "        return audio"
      ],
      "metadata": {
        "colab": {
          "base_uri": "https://localhost:8080/"
        },
        "id": "cb5G7kT5W-be",
        "outputId": "17a46a1f-3827-4fc0-ae28-c643e6c96586"
      },
      "execution_count": null,
      "outputs": [
        {
          "output_type": "stream",
          "name": "stdout",
          "text": [
            "Reading package lists...\n",
            "Building dependency tree...\n",
            "Reading state information...\n",
            "ffmpeg is already the newest version (7:4.4.2-0ubuntu0.22.04.1).\n",
            "0 upgraded, 0 newly installed, 0 to remove and 45 not upgraded.\n"
          ]
        }
      ]
    },
    {
      "cell_type": "code",
      "source": [
        "# Load and verify the 20 .wav files\n",
        "filenames = [f'sentence_{i+1}.wav' for i in range(20)]\n",
        "audio_segments = [verify_reencode(filename) for filename in filenames]\n",
        "\n",
        "# Loop through each sentence as the main one\n",
        "for main_sentence_index in range(len(audio_segments)):\n",
        "    # Set the main sentence\n",
        "    main_sentence = audio_segments[main_sentence_index].apply_gain(0)\n",
        "\n",
        "    # set the background and mix\n",
        "    background_mix = AudioSegment.silent(duration=len(main_sentence))\n",
        "    #background_sentences = audio_segments[:main_sentence_index] + audio_segments[main_sentence_index+1:]\n",
        "    for i, background_sentence in enumerate(audio_segments):\n",
        "        if i != main_sentence_index:\n",
        "            background_mix = background_mix.overlay(background_sentence.apply_gain(-25 + main_sentence_index))\n",
        "    mix = main_sentence.overlay(background_mix)\n",
        "\n",
        "    # Export the combined audio to a file\n",
        "    output_filename = f'combined_main_{main_sentence_index+1}.wav'\n",
        "    mix.export(output_filename, format='wav')\n",
        "    print(f'Saved: {output_filename}')"
      ],
      "metadata": {
        "colab": {
          "base_uri": "https://localhost:8080/"
        },
        "id": "oDOolHkRc-KQ",
        "outputId": "46c33234-d50c-487e-e8e5-93c4d6faf858"
      },
      "execution_count": null,
      "outputs": [
        {
          "output_type": "stream",
          "name": "stdout",
          "text": [
            "Re-encoding sentence_1.wav...\n",
            "Re-encoding sentence_2.wav...\n",
            "Re-encoding sentence_3.wav...\n",
            "Re-encoding sentence_4.wav...\n",
            "Re-encoding sentence_5.wav...\n",
            "Re-encoding sentence_6.wav...\n",
            "Re-encoding sentence_7.wav...\n",
            "Re-encoding sentence_8.wav...\n",
            "Re-encoding sentence_9.wav...\n",
            "Re-encoding sentence_10.wav...\n",
            "Re-encoding sentence_11.wav...\n",
            "Re-encoding sentence_12.wav...\n",
            "Re-encoding sentence_13.wav...\n",
            "Re-encoding sentence_14.wav...\n",
            "Re-encoding sentence_15.wav...\n",
            "Re-encoding sentence_16.wav...\n",
            "Re-encoding sentence_17.wav...\n",
            "Re-encoding sentence_18.wav...\n",
            "Re-encoding sentence_19.wav...\n",
            "Re-encoding sentence_20.wav...\n",
            "Saved: combined_main_1.wav\n",
            "Saved: combined_main_2.wav\n",
            "Saved: combined_main_3.wav\n",
            "Saved: combined_main_4.wav\n",
            "Saved: combined_main_5.wav\n",
            "Saved: combined_main_6.wav\n",
            "Saved: combined_main_7.wav\n",
            "Saved: combined_main_8.wav\n",
            "Saved: combined_main_9.wav\n",
            "Saved: combined_main_10.wav\n",
            "Saved: combined_main_11.wav\n",
            "Saved: combined_main_12.wav\n",
            "Saved: combined_main_13.wav\n",
            "Saved: combined_main_14.wav\n",
            "Saved: combined_main_15.wav\n",
            "Saved: combined_main_16.wav\n",
            "Saved: combined_main_17.wav\n",
            "Saved: combined_main_18.wav\n",
            "Saved: combined_main_19.wav\n",
            "Saved: combined_main_20.wav\n"
          ]
        }
      ]
    },
    {
      "cell_type": "code",
      "source": [
        "display(mix) #just an example to check if it worked (last sample)"
      ],
      "metadata": {
        "colab": {
          "base_uri": "https://localhost:8080/",
          "height": 52
        },
        "id": "IIWvwG_Ffo-Y",
        "outputId": "266c7e7a-a276-461b-b3bc-437ac9b49f6e"
      },
      "execution_count": null,
      "outputs": [
        {
          "output_type": "display_data",
          "data": {
            "text/plain": [
              "<pydub.audio_segment.AudioSegment at 0x7ac1b2e27610>"
            ],
            "text/html": [
              "\n",
              "                    <audio controls>\n",
              "                        <source src=\"data:audio/mpeg;base64,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\" type=\"audio/mpeg\"/>\n",
              "                        Your browser does not support the audio element.\n",
              "                    </audio>\n",
              "                  "
            ]
          },
          "metadata": {}
        }
      ]
    },
    {
      "cell_type": "markdown",
      "source": [
        "- Survey Answers"
      ],
      "metadata": {
        "id": "45tMW6cuRc1K"
      }
    },
    {
      "cell_type": "code",
      "source": [
        "# @title\n",
        "samples=[]\n",
        "samples.append([\n",
        "\"I like to read books, especially mystery and science fiction\",\n",
        "\"She had a red car she drives every day\",\n",
        "\"They are playing in the park with their friends\",\n",
        "\"The sky is blue today with no clouds visible\",\n",
        "\"He eats an apple every morning to stay healthy\",\n",
        "\"We live in a small town with a beautiful lake\",\n",
        "\"The cat is sleeping on the couch after playing outside\",\n",
        "\"I need to buy groceries like milk, bread, and vegetables\",\n",
        "\"Can you help me with this difficult math problem\",\n",
        "\"It is very hot outside, so drink plenty of water\",\n",
        "\"I enjoy listening to music while working and concentrating\",\n",
        "\"She is a good dancer and practices her moves daily\",\n",
        "\"He works at a bank as a tailor helping customers\",\n",
        "\"The garden flowers are beautiful and come in many colors\",\n",
        "\"x\",\n",
        "\"x\",\n",
        "\"x\",\n",
        "\"x\",\n",
        "\"x\",\n",
        "\"x\"\n",
        "])"
      ],
      "metadata": {
        "id": "WzATfJd_GDb6"
      },
      "execution_count": null,
      "outputs": []
    },
    {
      "cell_type": "code",
      "source": [
        "# @title\n",
        "samples.append([\n",
        "\"I like to read books, especially mystery and science fiction\",\n",
        "\"She has a red car she drives every day\",\n",
        "\"They are playing in the park with their friends\",\n",
        "\"The sky is blue today with no clouds visible\",\n",
        "\"He eats an apple every morning to stay healthy\",\n",
        "\"We live in a small town with a beautiful lake\",\n",
        "\"The cat is sleeping on the couch after playing outside\",\n",
        "\"I need to buy groceries like milk, bread, and vegetables\",\n",
        "\"Can you help me with this difficult math problem\",\n",
        "\"It is very hot outside, so drink plenty of water\",\n",
        "\"I enjoy listening to music while working for concentration\",\n",
        "\"She is a good dancer and practices her moves daily\",\n",
        "\"He works at a bank as a teller helping customers\",\n",
        "\"The garden flowers are beautiful and come in many colors\",\n",
        "\"x\",\n",
        "\"x\",\n",
        "\"x\",\n",
        "\"x\",\n",
        "\"x\",\n",
        "\"x\"\n",
        "])"
      ],
      "metadata": {
        "id": "3hBYsqnDLIDI"
      },
      "execution_count": null,
      "outputs": []
    },
    {
      "cell_type": "code",
      "source": [
        "# @title\n",
        "samples.append([\n",
        "\"I like to read books, especially mystery and science fiction\",\n",
        "\"She has a red car she drives every day\",\n",
        "\"They are playing in the park with their friends\",\n",
        "\"The sky is blue today with no clouds visible\",\n",
        "\"He eats an apple every morning to stay healthy\",\n",
        "\"We live in a small town with a beautiful lake\",\n",
        "\"The cat is sleeping on the couch after playing outside\",\n",
        "\"I need to buy groceries like milk, bread, and vegetables\",\n",
        "\"Can you help me with this difficult math problem\",\n",
        "\"It is very hot outside, so drink plenty of water\",\n",
        "\"I enjoy listening to music while working for concentration\",\n",
        "\"She is a good dancer and practices her moves daily\",\n",
        "\"He works at a bank as a dresser helping customers\",\n",
        "\"The garden flowers are beautiful and come in many colors\",\n",
        "\"x\",\n",
        "\"x\",\n",
        "\"x\",\n",
        "\"x\",\n",
        "\"x\",\n",
        "\"x\"\n",
        "])"
      ],
      "metadata": {
        "id": "ZeuFdywUQ6uj"
      },
      "execution_count": null,
      "outputs": []
    },
    {
      "cell_type": "code",
      "source": [
        "# @title\n",
        "samples.append([\n",
        "\"I like to read books, especially mystery and science fiction\",\n",
        "\"She had a red car she drives every day\",\n",
        "\"They are playing in the park with their friends\",\n",
        "\"The sky is blue today with no clouds visible\",\n",
        "\"He eats an apple every morning to stay healthy\",\n",
        "\"We live in a small town with a beautiful lake\",\n",
        "\"The cat is sleeping on the couch after playing outside\",\n",
        "\"I need to buy groceries like milk, bread, and vegetables\",\n",
        "\"Can you help me with this difficult math problem\",\n",
        "\"It is very hot outside, so drink plenty of water\",\n",
        "\"I enjoy listening to music while working for concentration\",\n",
        "\"She is a good dancer and practices her moves daily\",\n",
        "'x',\n",
        "'x',\n",
        "'x',\n",
        "'x',\n",
        "'x',\n",
        "'x',\n",
        "'x',\n",
        "'x'\n",
        "])"
      ],
      "metadata": {
        "id": "uzZl_MoYU8Cj"
      },
      "execution_count": null,
      "outputs": []
    },
    {
      "cell_type": "code",
      "source": [
        "# @title\n",
        "samples.append([\n",
        "\"I like to read books, especially mystery and science fiction\",\n",
        "\"She had a red car she drives every day\",\n",
        "\"They are planning in the park with their friends\",\n",
        "\"The sky is blue today without clouds visible\",\n",
        "\"He eats an apple every morning to stay healthy\",\n",
        "\"We live in a small town with a beautiful lake\",\n",
        "\"x\",\n",
        "\"I need to buy groceries like milk, bread, and vegetables\",\n",
        "\"Can you help me with this difficult math problem\",\n",
        "\"It is very hot outside, so drink plenty of water\",\n",
        "\"x\",\n",
        "\"She is a good dancer and practices her moves dancing\",\n",
        "'x',\n",
        "'x',\n",
        "'x',\n",
        "'x',\n",
        "'x',\n",
        "'x',\n",
        "'x',\n",
        "'x'\n",
        "])"
      ],
      "metadata": {
        "id": "if7ed2pOYlUi"
      },
      "execution_count": null,
      "outputs": []
    },
    {
      "cell_type": "code",
      "source": [
        "# @title\n",
        "samples.append([\n",
        "\"I like to read books, especially mystery and science fiction\",\n",
        "\"She has a red car she drives every day\",\n",
        "\"They are playing in the park with their friends\",\n",
        "\"The sky is blue today with no clouds visible\",\n",
        "\"He eats an apple every morning to stay healthy\",\n",
        "\"We live in a small town with a beautiful lake\",\n",
        "\"The cat is sleeping on the couch after playing outside\",\n",
        "\"I need to buy groceries like milk, bread, and vegetables\",\n",
        "\"Can you help me with this difficult math problem\",\n",
        "\"It is very hot outside, so drink plenty of water\",\n",
        "\"I enjoy listening to music while working for concentration\",\n",
        "\"She is a good dancer and practices her moves daily\",\n",
        "\"He works in a bank helping customers\",\n",
        "\"The garden flowers are beautiful and come in many colors\",\n",
        "\"x\",\n",
        "'x',\n",
        "'x',\n",
        "'x',\n",
        "'x',\n",
        "'x'\n",
        "])"
      ],
      "metadata": {
        "id": "mVgwwHpkdAlU"
      },
      "execution_count": null,
      "outputs": []
    },
    {
      "cell_type": "code",
      "source": [
        "# @title\n",
        "samples.append([\n",
        "\"I like to read books, especially mystery and science fiction\",\n",
        "\"She has a red car she drives every day\",\n",
        "\"They are playing in the park with their friends\",\n",
        "\"The sky is blue today with no clouds visible\",\n",
        "\"He eats an apple every morning to stay healthy\",\n",
        "\"We live in a small town with a beautiful lake\",\n",
        "\"The cat is sleeping on the couch after playing outside\",\n",
        "\"I need to buy groceries like milk, bread, and vegetables\",\n",
        "\"Can you help me with this difficult math problem\",\n",
        "\"It is very hot outside, so drink plenty of water\",\n",
        "\"I enjoy listening to music while working for concentration\",\n",
        "\"She is a good dancer and practices her moves daily\",\n",
        "\"He works at a bank as a teller helping customers\",\n",
        "\"The garden flowers are beautiful and come in many colors\",\n",
        "\"We are going to the beach tomorrow to swim\",\n",
        "'x',\n",
        "'x',\n",
        "'x',\n",
        "'x',\n",
        "'x'\n",
        "])"
      ],
      "metadata": {
        "id": "9jvUSRYwhgPB"
      },
      "execution_count": null,
      "outputs": []
    },
    {
      "cell_type": "code",
      "source": [
        "# @title\n",
        "samples.append([\n",
        "\"I like to read books, especially mystery and science fiction\",\n",
        "\"She has a red car she drives every day\",\n",
        "\"They are playing in the park with their friends\",\n",
        "\"The sky is blue today with no clouds visible\",\n",
        "\"He eats an apple every morning to stay healthy\",\n",
        "\"We live in a small town with a beautiful lake\",\n",
        "\"The cat is sleeping on the couch after playing outside\",\n",
        "\"I need to buy groceries like milk, bread, and vegetables\",\n",
        "\"Can you help me with this difficult math problem\",\n",
        "\"It is very hot outside, so drink plenty of water\",\n",
        "\"I enjoy listening to music while working for concentration\",\n",
        "\"She is a good dancer and practices her moves daily\",\n",
        "\"bank helping customers\",\n",
        "\"The garden beautiful many colors\",\n",
        "'x',\n",
        "'x',\n",
        "'x',\n",
        "'x',\n",
        "'x',\n",
        "'x',\n",
        " ])"
      ],
      "metadata": {
        "id": "nPEdE_9mlSUm"
      },
      "execution_count": null,
      "outputs": []
    },
    {
      "cell_type": "code",
      "source": [
        "# @title\n",
        "samples.append([\n",
        "\"I like to read books, especially mystery and science fiction\",\n",
        "\"She has a red car she drives every day\",\n",
        "\"They are playing in the park with their friends\",\n",
        "\"The sky is blue today with no clouds visible\",\n",
        "\"He eats an apple every morning to stay healthy\",\n",
        "\"We live in a small town with a beautiful lake\",\n",
        "\"The cat is sleeping on the couch after playing outside\",\n",
        "\"I need to buy groceries like milk, bread, and vegetables\",\n",
        "\"Can you help me with this difficult math problem\",\n",
        "\"It is very hot outside, so drink plenty of water\",\n",
        "\"I enjoy listening to music while working for concentration\",\n",
        "\"She is a good dancer and practices her moves daily\",\n",
        "\"He works bank helping customers\",\n",
        "\"The garden flowers are beautiful and come in many colors\",\n",
        "\"We the beach to swim\",\n",
        "'x',\n",
        "'x',\n",
        "'x',\n",
        "'x',\n",
        "'x'\n",
        "])"
      ],
      "metadata": {
        "id": "W3jNUpVBsYJp"
      },
      "execution_count": null,
      "outputs": []
    },
    {
      "cell_type": "code",
      "source": [
        "samples.append([\n",
        "\"I like to read books, especially mystery and science fiction\",\n",
        "\"She had a red car she drives every day\",\n",
        "\"They are playing in the park with their friends\",\n",
        "\"The sky is blue today with no clouds visible\",\n",
        "\"He eats an apple every morning to stay healthy\",\n",
        "\"We live in a small town with a beautiful lake\",\n",
        "\"The cat is sleeping on the couch after playing outside\",\n",
        "\"I need to buy groceries like milk, bread, and vegetables\",\n",
        "\"Can you help me with this difficult math problem\",\n",
        "\"It is very hot outside, so drink plenty of water\",\n",
        "\"I enjoy listening to music while working for concentration\",\n",
        "\"She is a good dancer and practices her moves daily\",\n",
        "\"x\",\n",
        "\"The garden flowers are beautiful and come with colors\",\n",
        "'x',\n",
        "'x',\n",
        "'x',\n",
        "'x',\n",
        "'x',\n",
        "'x'\n",
        "])"
      ],
      "metadata": {
        "id": "X9hVEAXksaC9"
      },
      "execution_count": null,
      "outputs": []
    },
    {
      "cell_type": "markdown",
      "source": [
        "- Evaluating the answers"
      ],
      "metadata": {
        "id": "uCShpc2uR8LK"
      }
    },
    {
      "cell_type": "code",
      "source": [
        "percent=75 # [%] of the minimum to be considered understood\n",
        "correct=0\n",
        "correction=[]\n",
        "samples_correction=[]\n",
        "\n",
        "for k in samples:\n",
        "  aux=0\n",
        "  for j in k:\n",
        "    words = j.split(' ')\n",
        "    for word in words:\n",
        "      if word in sentences[aux]:\n",
        "        correct = correct+1\n",
        "    if (correct/len(words)>=(percent/100)):  #If the sentence is understood (comprehended more than 75% of the words) 0 is returned\n",
        "      correction.append(0)\n",
        "    else:\n",
        "      correction.append(1) #If the sentence is NOT understood (comprehended less than 75% of the words) 1 is returned\n",
        "    correct=0\n",
        "    aux=aux+1\n",
        "  samples_correction.append(correction)\n",
        "  correction=[]"
      ],
      "metadata": {
        "id": "845a3paMSnFN"
      },
      "execution_count": null,
      "outputs": []
    },
    {
      "cell_type": "code",
      "source": [
        "#Averaging\n",
        "\n",
        "avg=[]\n",
        "sum=[]\n",
        "aux = 0\n",
        "for k in range(len(samples[0])): # Iterate over each column (assuming all inner lists are of the same length)\n",
        "  for j in range(len(samples_correction)):\n",
        "    aux += samples_correction[j][k] # Compute average for the k-th column\n",
        "  sum.append(aux)\n",
        "  avg.append(aux/len(samples))\n",
        "  aux=0 # Reset aux for the next column\n",
        "\n",
        "print(avg)"
      ],
      "metadata": {
        "colab": {
          "base_uri": "https://localhost:8080/"
        },
        "id": "j9tJc6YER-xx",
        "outputId": "9a672436-f990-4dd8-d06c-55248064c1c2"
      },
      "execution_count": null,
      "outputs": [
        {
          "output_type": "stream",
          "name": "stdout",
          "text": [
            "[0.0, 0.0, 0.0, 0.0, 0.0, 0.0, 0.1, 0.0, 0.0, 0.0, 0.1, 0.0, 0.3, 0.2, 0.8, 1.0, 1.0, 1.0, 1.0, 1.0]\n"
          ]
        }
      ]
    },
    {
      "cell_type": "markdown",
      "source": [
        "- Fitting psychometric curve (Sigmoid)"
      ],
      "metadata": {
        "id": "m5vaYWlESnaB"
      }
    },
    {
      "cell_type": "code",
      "source": [
        "import matplotlib.pyplot as plt\n",
        "import numpy as np\n",
        "from scipy.optimize import curve_fit\n",
        "\n",
        "def sigmoid(x, L ,x0, k, b):\n",
        "    y = L / (1 + np.exp(-k*(x-x0))) + b\n",
        "    return (y)\n",
        "\n",
        "gains = range(-25,(-5),1)\n",
        "\n",
        "p0 = [max(avg), np.median(gains),1,min(avg)] # this is an mandatory initial guess\n",
        "popt, pcov = curve_fit(sigmoid, gains, avg, p0, method='lm') #Fitting the curve\n",
        "xaxis = np.linspace(-25,-5, 2000)\n",
        "psychometric = sigmoid(xaxis, *popt)\n",
        "\n",
        "# Calculate the x value where the sigmoid curve equals 0.5\n",
        "L, x0, k, b = popt\n",
        "x_threshold = x0 - (1 / k) * np.log((L / (0.5 - b)) - 1)\n",
        "y_point = sigmoid(x_threshold, *popt)\n",
        "\n",
        "plt.figure()\n",
        "plt.plot(gains,avg, '.')\n",
        "plt.plot(xaxis,psychometric)\n",
        "plt.xlabel(\"Background relative attenuation [dB]\")\n",
        "plt.ylabel('Average comprehensability [%]')\n",
        "plt.grid()\n",
        "plt.plot(x_threshold, y_point, 'ro')  # 'ro' indicates a red dot\n",
        "plt.text(x_threshold, y_point, f'({x_threshold:.2f}, {y_point:.2f})', fontsize=12, ha='right')\n",
        "plt.title(f'Model {percent}%')"
      ],
      "metadata": {
        "colab": {
          "base_uri": "https://localhost:8080/",
          "height": 489
        },
        "id": "ItTPYFmZSsGF",
        "outputId": "0aec64ff-ca33-4203-a884-0053ee4de349"
      },
      "execution_count": null,
      "outputs": [
        {
          "output_type": "execute_result",
          "data": {
            "text/plain": [
              "Text(0.5, 1.0, 'Model 75%')"
            ]
          },
          "metadata": {},
          "execution_count": 67
        },
        {
          "output_type": "display_data",
          "data": {
            "text/plain": [
              "<Figure size 640x480 with 1 Axes>"
            ],
            "image/png": "[encoded data removed]"
          },
          "metadata": {}
        }
      ]
    }
  ]
}